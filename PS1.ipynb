{
 "cells": [
  {
   "cell_type": "markdown",
   "metadata": {},
   "source": [
    "# Assignment#1 Dongwei ZHAO SID_12432909"
   ]
  },
  {
   "cell_type": "code",
   "execution_count": 194,
   "metadata": {},
   "outputs": [
    {
     "name": "stdout",
     "output_type": "stream",
     "text": [
      "x + y - 10z = 10 + 5 - 10*1 = 5\n",
      "x + y - 10z = 10 + 6 - 10*5 = -34\n",
      "x + y - 10z = 11 + 10 - 10*5 = -29\n",
      "x + y - 10z = 6 + 5 - 10*1 = 1\n",
      "Nothing\n",
      "x + y - 10z = 10 + 5 - 10*1 = 5\n"
     ]
    }
   ],
   "source": [
    "#1 Flowchart\n",
    "def Print_values(a, b, c):\n",
    "    if a > b: # T\n",
    "        if b > c: \n",
    "            x = a\n",
    "            y = b\n",
    "            z = c\n",
    "            print(f\"x + y - 10z = {x} + {y} - 10*{z} = {x + y - 10 * z}\") #T_T\n",
    "        else: #  b <= c T_F, check if a > c\n",
    "            if a > c:\n",
    "                x = a\n",
    "                y = c\n",
    "                z = b\n",
    "                print(f\"x + y - 10z = {x} + {y} - 10*{z} = {x + y - 10 * z}\") #T_F_T\n",
    "            else: # a <= c\n",
    "                x = c\n",
    "                y = a\n",
    "                z = b\n",
    "                print(f\"x + y - 10z = {x} + {y} - 10*{z} = {x + y - 10 * z}\") #T_F_F\n",
    "    else: # a <= b F\n",
    "        if b > c: # F_T\n",
    "            print('Nothing') #F_T Nothing\n",
    "        else: #F_F\n",
    "            # b <= c\n",
    "            x = c\n",
    "            y = b\n",
    "            z = a\n",
    "            print(f\"x + y - 10z = {x} + {y} - 10*{z} = {x + y - 10 * z}\") #F_F\n",
    "\n",
    "#Testing the function\n",
    "Print_values(10, 5, 1) # T_T\n",
    "Print_values(10, 5, 6) #T_F_T\n",
    "Print_values(10, 5, 11) #T_F_F\n",
    "Print_values(1, 5, 6) #F_F\n",
    "Print_values(1, 5, 3) #F_T\n",
    "#Calling the function when a = 10, b = 5, c = 1\n",
    "Print_values(10, 5, 1)"
   ]
  },
  {
   "cell_type": "code",
   "execution_count": 195,
   "metadata": {},
   "outputs": [
    {
     "name": "stdout",
     "output_type": "stream",
     "text": [
      "F(1) = 1\n",
      "F(2) = 5\n",
      "F(4) = 13\n",
      "F(6) = 17\n",
      "F(5) = 15\n",
      "F(3) = 7\n",
      "F(1) = 1\n"
     ]
    }
   ],
   "source": [
    "#2. Continuous ceiling function\n",
    "import math\n",
    "\n",
    "def F(x, memo={1: 1}):\n",
    "    # Define a dictionary memo to store already calculated values,and given initial value 1:1\n",
    "    if x not in memo:\n",
    "        memo[x] = F(math.ceil(x / 3), memo) + 2 * x\n",
    "    return memo[x]\n",
    "\n",
    "# Given list with N positive integers\n",
    "N = [1, 2, 4, 6, 5, 3, 1]\n",
    "\n",
    "# Calculating F(x) for every element x in the list\n",
    "results = [F(x) for x in N]\n",
    "\n",
    "# Printing results\n",
    "for x, result in zip(N, results):\n",
    "    print(f'F({x}) = {result}')"
   ]
  },
  {
   "cell_type": "code",
   "execution_count": 196,
   "metadata": {},
   "outputs": [
    {
     "name": "stdout",
     "output_type": "stream",
     "text": [
      "The number of ways to get sum 30 with 10 six-faced dice is: 2930455\n"
     ]
    }
   ],
   "source": [
    "#3. Dice rolling\n",
    "#3.1\n",
    "def find_number_of_ways(num_dice, num_faces, target_sum):\n",
    "    if target_sum < num_dice or target_sum > num_dice * num_faces: #boundary condition\n",
    "        return 0\n",
    "\n",
    "    #dynamically programmed array, dp[i] represents the number of ways that sum i\n",
    "    dp = [0] * (target_sum + 1)\n",
    "    dp[0] = 1 #initial value\n",
    "\n",
    "    for _ in range(num_dice):\n",
    "        #new array to store the results of the current round\n",
    "        next_dp = [0] * (target_sum + 1)\n",
    "        #iterate over all the current possible sums s\n",
    "        for s in range(target_sum + 1):\n",
    "            #traverse all possible face values of the current die\n",
    "            for face_value in range(1, num_faces + 1):\n",
    "                if s + face_value <= target_sum:\n",
    "                    next_dp[s + face_value] += dp[s] #number of ways to update new sums\n",
    "        dp = next_dp\n",
    "\n",
    "    return dp[target_sum]\n",
    "\n",
    "num_dice = 10\n",
    "num_faces = 6\n",
    "target_sum = 30\n",
    "ways = find_number_of_ways(num_dice, num_faces, target_sum)\n",
    "print(f'The number of ways to get sum {target_sum} with {num_dice} six-faced dice is: {ways}')"
   ]
  },
  {
   "cell_type": "code",
   "execution_count": 197,
   "metadata": {},
   "outputs": [
    {
     "name": "stdout",
     "output_type": "stream",
     "text": [
      "Number_of_ways: [4, 5, 5, 6, 6, 7, 7, 8, 8, 9, 9, 10, 10, 11, 11, 12, 12, 13, 13, 14, 14, 15, 15, 16, 16, 17, 17, 18, 18, 19, 19, 20, 20, 21, 21, 22, 22, 23, 23, 24, 24, 25, 25, 26, 26, 27, 27, 28, 28, 29, 29]\n",
      "x values that yield the maximum number of ways: [59, 60]\n",
      "Maximum number of ways: 29\n"
     ]
    }
   ],
   "source": [
    "#3. Dice rolling\n",
    "#3.2\n",
    "Number_of_ways = [(x - 1) // 2 for x in range(10, 61)]\n",
    "\n",
    "# Find the value(s) of x that yield the maximum number of ways\n",
    "max_ways = max(Number_of_ways)\n",
    "max_x_values = [10 + i for i, ways in enumerate(Number_of_ways) if ways == max_ways]\n",
    "\n",
    "print(\"Number_of_ways:\", Number_of_ways)\n",
    "print(\"x values that yield the maximum number of ways:\", max_x_values)\n",
    "print(\"Maximum number of ways:\", max_ways)"
   ]
  },
  {
   "cell_type": "code",
   "execution_count": 198,
   "metadata": {},
   "outputs": [
    {
     "name": "stdout",
     "output_type": "stream",
     "text": [
      "[1, 6, 3, 8, 10, 1, 10, 1, 9, 4]\n"
     ]
    }
   ],
   "source": [
    "#4. Dynamic programming\n",
    "#4.1\n",
    "import random\n",
    "\n",
    "def Random_integer(N):\n",
    "    #List comprehensions\n",
    "    return [random.randint(0, 10) for _ in range(N)]\n",
    "\n",
    "N = 10\n",
    "result = Random_integer(N)\n",
    "print(result)"
   ]
  },
  {
   "cell_type": "code",
   "execution_count": 211,
   "metadata": {},
   "outputs": [
    {
     "name": "stdout",
     "output_type": "stream",
     "text": [
      "14.0\n"
     ]
    }
   ],
   "source": [
    "#4. Dynamic programming\n",
    "#4.2\n",
    "import itertools\n",
    "import numpy as np\n",
    "\n",
    "def Sum_averages(arr):\n",
    "    total_sum = 0\n",
    "    for subset_size in range(1, len(arr) + 1):\n",
    "        # Get all combinations of elements of the given size\n",
    "        subsets = itertools.combinations(arr, subset_size)\n",
    "        # Calculate and add their averages to total_sum\n",
    "        for subset in subsets:\n",
    "            total_sum += np.mean(subset)\n",
    "    return total_sum\n",
    "\n",
    "arr = [1,2,3]\n",
    "print(Sum_averages(arr))"
   ]
  },
  {
   "cell_type": "code",
   "execution_count": 307,
   "metadata": {},
   "outputs": [
    {
     "name": "stdout",
     "output_type": "stream",
     "text": [
      "[[3], [2, 10], [2, 4, 4], [8, 8, 9, 8]]\n",
      "[3.0, 18.0, 23.333333333333332, 123.74999999999999]\n"
     ]
    }
   ],
   "source": [
    "#4. Dynamic programming\n",
    "#4.3\n",
    "Total_sum_averages = []\n",
    "arr_list = []#check list\n",
    "N_range = range(1, 101)\n",
    "for N in N_range:\n",
    "    arr = Random_integer(N)\n",
    "    if N <= 4:  # Output check\n",
    "        arr_list.append(arr)\n",
    "    Total_sum_averages.append(Sum_averages(arr))\n",
    "\n",
    "print(arr_list)\n",
    "print( Total_sum_averages[:4])"
   ]
  },
  {
   "cell_type": "code",
   "execution_count": 314,
   "metadata": {},
   "outputs": [
    {
     "name": "stderr",
     "output_type": "stream",
     "text": [
      "/home/dwzhao/software/anaconda3/lib/python3.11/site-packages/proplot/figure.py:469: MatplotlibDeprecationWarning: savefig() got unexpected keyword argument \"facecolor\" which is no longer supported as of 3.3 and will become an error two minor releases later\n",
      "  return func(self, *args, **kwargs)\n",
      "/home/dwzhao/software/anaconda3/lib/python3.11/site-packages/proplot/figure.py:469: MatplotlibDeprecationWarning: savefig() got unexpected keyword argument \"edgecolor\" which is no longer supported as of 3.3 and will become an error two minor releases later\n",
      "  return func(self, *args, **kwargs)\n",
      "/home/dwzhao/software/anaconda3/lib/python3.11/site-packages/proplot/figure.py:469: MatplotlibDeprecationWarning: savefig() got unexpected keyword argument \"orientation\" which is no longer supported as of 3.3 and will become an error two minor releases later\n",
      "  return func(self, *args, **kwargs)\n",
      "/home/dwzhao/software/anaconda3/lib/python3.11/site-packages/proplot/figure.py:469: MatplotlibDeprecationWarning: savefig() got unexpected keyword argument \"bbox_inches_restore\" which is no longer supported as of 3.3 and will become an error two minor releases later\n",
      "  return func(self, *args, **kwargs)\n"
     ]
    },
    {
     "data": {
      "image/png": "[encoded data removed]",
      "text/plain": [
       "Figure(nrows=1, ncols=1, refwidth=2.5)"
      ]
     },
     "metadata": {
      "image/png": {
       "height": 334,
       "width": 369
      }
     },
     "output_type": "display_data"
    }
   ],
   "source": [
    "#4. Dynamic programming\n",
    "#4.3\n",
    "import proplot as pplt\n",
    "fig, ax = pplt.subplots()\n",
    "ax.plot(range(1, 101), Total_sum_averages, label='Sum of Averages')\n",
    "ax.format(title='Sum of Averages of Subsets for N from 1 to 100', xlabel='N', ylabel='Total Sum of Averages', titlepad=15)\n",
    "pplt.show()"
   ]
  },
  {
   "cell_type": "code",
   "execution_count": 262,
   "metadata": {},
   "outputs": [
    {
     "name": "stdout",
     "output_type": "stream",
     "text": [
      "[[1 0]\n",
      " [0 1]]\n"
     ]
    }
   ],
   "source": [
    "#5. Path counting\n",
    "#5.1\n",
    "import random\n",
    "\n",
    "# 5.1 Create a matrix with N rows and M columns, fill the right-bottom corner and top-left corner cells with 1, and randomly fill the rest of matrix with integer 0 or 1.\n",
    "def create_matrix(N, M):\n",
    "    matrix = np.random.randint(0, 2, size=(N, M))\n",
    "    matrix[0][0] = 1  # Top-left corner\n",
    "    matrix[N-1][M-1] = 1  # Right-bottom corner\n",
    "    return matrix\n",
    "\n",
    "matrix = create_matrix(2, 2)\n",
    "print(matrix)\n"
   ]
  },
  {
   "cell_type": "code",
   "execution_count": 272,
   "metadata": {},
   "outputs": [
    {
     "name": "stdout",
     "output_type": "stream",
     "text": [
      "0\n"
     ]
    }
   ],
   "source": [
    "#5. Path counting\n",
    "#5.2\n",
    "def Count_path(matrix):\n",
    "    N, M = matrix.shape\n",
    "    # Create a DP array to store the number of paths.\n",
    "    dp = np.zeros((N, M), dtype=int)\n",
    "\n",
    "    # Initialize the starting point\n",
    "    dp[0, 0] = 1\n",
    "\n",
    "    # Fill the DP table\n",
    "    for i in range(N):\n",
    "        for j in range(M):\n",
    "            if matrix[i, j] == 1:\n",
    "                if i > 0:\n",
    "                    dp[i, j] += dp[i - 1, j]\n",
    "                if j > 0:\n",
    "                    dp[i, j] += dp[i, j - 1]\n",
    "\n",
    "    return dp[N - 1, M - 1]\n",
    "\n",
    "print(Count_path(matrix))"
   ]
  },
  {
   "cell_type": "code",
   "execution_count": 294,
   "metadata": {},
   "outputs": [
    {
     "name": "stdout",
     "output_type": "stream",
     "text": [
      "Mean number of paths from 1000 runs: 0.628\n"
     ]
    }
   ],
   "source": [
    "#5. Path counting\n",
    "#5.3\n",
    "N, M = 10, 8\n",
    "runs = 1000\n",
    "total_paths = 0\n",
    "for _ in range(runs):\n",
    "    #Call create_matrix function\n",
    "    matrix = create_matrix(N, M)\n",
    "\n",
    "    ##Call Count_path function\n",
    "    total_paths += Count_path(matrix)\n",
    "\n",
    "# Calculate the mean number of paths\n",
    "mean_paths = total_paths / runs\n",
    "print(f\"Mean number of paths from {runs} runs: {mean_paths}\")"
   ]
  }
 ],
 "metadata": {
  "kernelspec": {
   "display_name": "base",
   "language": "python",
   "name": "python3"
  },
  "language_info": {
   "codemirror_mode": {
    "name": "ipython",
    "version": 3
   },
   "file_extension": ".py",
   "mimetype": "text/x-python",
   "name": "python",
   "nbconvert_exporter": "python",
   "pygments_lexer": "ipython3",
   "version": "3.11.5"
  }
 },
 "nbformat": 4,
 "nbformat_minor": 2
}
